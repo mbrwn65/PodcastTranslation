{
 "cells": [
  {
   "cell_type": "code",
   "execution_count": 1,
   "metadata": {},
   "outputs": [
    {
     "name": "stdout",
     "output_type": "stream",
     "text": [
      "Requirement already satisfied: certifi==2024.8.30 in /Users/michael.781/Desktop/DataScience/venvMT/lib/python3.11/site-packages (from -r additionalreqs.txt (line 1)) (2024.8.30)\n",
      "Requirement already satisfied: charset-normalizer==3.4.0 in /Users/michael.781/Desktop/DataScience/venvMT/lib/python3.11/site-packages (from -r additionalreqs.txt (line 2)) (3.4.0)\n",
      "Collecting click==8.1.7 (from -r additionalreqs.txt (line 3))\n",
      "  Using cached click-8.1.7-py3-none-any.whl.metadata (3.0 kB)\n",
      "Requirement already satisfied: filelock==3.16.1 in /Users/michael.781/Desktop/DataScience/venvMT/lib/python3.11/site-packages (from -r additionalreqs.txt (line 4)) (3.16.1)\n",
      "Requirement already satisfied: fsspec==2024.10.0 in /Users/michael.781/Desktop/DataScience/venvMT/lib/python3.11/site-packages (from -r additionalreqs.txt (line 5)) (2024.10.0)\n",
      "Requirement already satisfied: huggingface-hub==0.26.3 in /Users/michael.781/Desktop/DataScience/venvMT/lib/python3.11/site-packages (from -r additionalreqs.txt (line 6)) (0.26.3)\n",
      "Requirement already satisfied: idna==3.10 in /Users/michael.781/Desktop/DataScience/venvMT/lib/python3.11/site-packages (from -r additionalreqs.txt (line 7)) (3.10)\n",
      "Collecting Jinja2==3.1.4 (from -r additionalreqs.txt (line 8))\n",
      "  Using cached jinja2-3.1.4-py3-none-any.whl.metadata (2.6 kB)\n",
      "Collecting joblib==1.4.2 (from -r additionalreqs.txt (line 9))\n",
      "  Using cached joblib-1.4.2-py3-none-any.whl.metadata (5.4 kB)\n",
      "Collecting MarkupSafe==3.0.2 (from -r additionalreqs.txt (line 10))\n",
      "  Using cached MarkupSafe-3.0.2-cp311-cp311-macosx_10_9_universal2.whl.metadata (4.0 kB)\n",
      "Requirement already satisfied: mpmath==1.3.0 in /Users/michael.781/Desktop/DataScience/venvMT/lib/python3.11/site-packages (from -r additionalreqs.txt (line 11)) (1.3.0)\n",
      "Collecting networkx==3.4.2 (from -r additionalreqs.txt (line 12))\n",
      "  Using cached networkx-3.4.2-py3-none-any.whl.metadata (6.3 kB)\n",
      "Collecting nltk==3.9.1 (from -r additionalreqs.txt (line 13))\n",
      "  Using cached nltk-3.9.1-py3-none-any.whl.metadata (2.9 kB)\n",
      "Requirement already satisfied: numpy==1.26.4 in /Users/michael.781/Desktop/DataScience/venvMT/lib/python3.11/site-packages (from -r additionalreqs.txt (line 14)) (1.26.4)\n",
      "Requirement already satisfied: packaging==24.2 in /Users/michael.781/Desktop/DataScience/venvMT/lib/python3.11/site-packages (from -r additionalreqs.txt (line 15)) (24.2)\n",
      "Requirement already satisfied: PyYAML==6.0.2 in /Users/michael.781/Desktop/DataScience/venvMT/lib/python3.11/site-packages (from -r additionalreqs.txt (line 16)) (6.0.2)\n",
      "Collecting regex==2024.11.6 (from -r additionalreqs.txt (line 17))\n",
      "  Using cached regex-2024.11.6-cp311-cp311-macosx_10_9_x86_64.whl.metadata (40 kB)\n",
      "Requirement already satisfied: requests==2.32.3 in /Users/michael.781/Desktop/DataScience/venvMT/lib/python3.11/site-packages (from -r additionalreqs.txt (line 18)) (2.32.3)\n",
      "Collecting safetensors==0.4.5 (from -r additionalreqs.txt (line 19))\n",
      "  Using cached safetensors-0.4.5-cp311-cp311-macosx_10_12_x86_64.whl.metadata (3.8 kB)\n",
      "Collecting sentencepiece==0.2.0 (from -r additionalreqs.txt (line 20))\n",
      "  Using cached sentencepiece-0.2.0-cp311-cp311-macosx_10_9_x86_64.whl.metadata (7.7 kB)\n",
      "Requirement already satisfied: sympy==1.13.3 in /Users/michael.781/Desktop/DataScience/venvMT/lib/python3.11/site-packages (from -r additionalreqs.txt (line 21)) (1.13.3)\n",
      "Collecting tokenizers==0.20.3 (from -r additionalreqs.txt (line 22))\n",
      "  Using cached tokenizers-0.20.3-cp311-cp311-macosx_10_12_x86_64.whl.metadata (6.7 kB)\n",
      "Collecting torch==2.2.2 (from -r additionalreqs.txt (line 23))\n",
      "  Using cached torch-2.2.2-cp311-none-macosx_10_9_x86_64.whl.metadata (25 kB)\n",
      "Requirement already satisfied: tqdm==4.67.1 in /Users/michael.781/Desktop/DataScience/venvMT/lib/python3.11/site-packages (from -r additionalreqs.txt (line 24)) (4.67.1)\n",
      "Collecting transformers==4.46.3 (from -r additionalreqs.txt (line 25))\n",
      "  Using cached transformers-4.46.3-py3-none-any.whl.metadata (44 kB)\n",
      "Requirement already satisfied: typing_extensions==4.12.2 in /Users/michael.781/Desktop/DataScience/venvMT/lib/python3.11/site-packages (from -r additionalreqs.txt (line 26)) (4.12.2)\n",
      "Requirement already satisfied: urllib3==2.2.3 in /Users/michael.781/Desktop/DataScience/venvMT/lib/python3.11/site-packages (from -r additionalreqs.txt (line 27)) (2.2.3)\n",
      "Using cached click-8.1.7-py3-none-any.whl (97 kB)\n",
      "Using cached jinja2-3.1.4-py3-none-any.whl (133 kB)\n",
      "Using cached joblib-1.4.2-py3-none-any.whl (301 kB)\n",
      "Using cached MarkupSafe-3.0.2-cp311-cp311-macosx_10_9_universal2.whl (14 kB)\n",
      "Using cached networkx-3.4.2-py3-none-any.whl (1.7 MB)\n",
      "Using cached nltk-3.9.1-py3-none-any.whl (1.5 MB)\n",
      "Using cached regex-2024.11.6-cp311-cp311-macosx_10_9_x86_64.whl (287 kB)\n",
      "Using cached safetensors-0.4.5-cp311-cp311-macosx_10_12_x86_64.whl (392 kB)\n",
      "Using cached sentencepiece-0.2.0-cp311-cp311-macosx_10_9_x86_64.whl (1.2 MB)\n",
      "Using cached tokenizers-0.20.3-cp311-cp311-macosx_10_12_x86_64.whl (2.7 MB)\n",
      "Using cached torch-2.2.2-cp311-none-macosx_10_9_x86_64.whl (150.8 MB)\n",
      "Using cached transformers-4.46.3-py3-none-any.whl (10.0 MB)\n",
      "Installing collected packages: sentencepiece, safetensors, regex, networkx, MarkupSafe, joblib, click, nltk, Jinja2, torch, tokenizers, transformers\n",
      "  Attempting uninstall: tokenizers\n",
      "    Found existing installation: tokenizers 0.21.0\n",
      "    Uninstalling tokenizers-0.21.0:\n",
      "      Successfully uninstalled tokenizers-0.21.0\n",
      "Successfully installed Jinja2-3.1.4 MarkupSafe-3.0.2 click-8.1.7 joblib-1.4.2 networkx-3.4.2 nltk-3.9.1 regex-2024.11.6 safetensors-0.4.5 sentencepiece-0.2.0 tokenizers-0.20.3 torch-2.2.2 transformers-4.46.3\n",
      "\n",
      "\u001b[1m[\u001b[0m\u001b[34;49mnotice\u001b[0m\u001b[1;39;49m]\u001b[0m\u001b[39;49m A new release of pip is available: \u001b[0m\u001b[31;49m24.0\u001b[0m\u001b[39;49m -> \u001b[0m\u001b[32;49m24.3.1\u001b[0m\n",
      "\u001b[1m[\u001b[0m\u001b[34;49mnotice\u001b[0m\u001b[1;39;49m]\u001b[0m\u001b[39;49m To update, run: \u001b[0m\u001b[32;49mpip install --upgrade pip\u001b[0m\n"
     ]
    },
    {
     "name": "stderr",
     "output_type": "stream",
     "text": [
      "/Users/michael.781/Desktop/DataScience/venvMT/lib/python3.11/site-packages/tqdm/auto.py:21: TqdmWarning: IProgress not found. Please update jupyter and ipywidgets. See https://ipywidgets.readthedocs.io/en/stable/user_install.html\n",
      "  from .autonotebook import tqdm as notebook_tqdm\n"
     ]
    }
   ],
   "source": [
    "import os\n",
    "import sys\n",
    "if not \"venv\" in sys.executable:\n",
    "    raise EnvironmentError(\"The script must be run in a virtual environment with ipykernel installed\")\n",
    "\n",
    "# #installs necessary packages\n",
    "!pip3 install -r additionalreqs.txt\n",
    "\n",
    "import pprint\n",
    "from transformers import MarianMTModel, MarianTokenizer\n",
    "import nltk"
   ]
  },
  {
   "cell_type": "code",
   "execution_count": 2,
   "metadata": {},
   "outputs": [],
   "source": [
    "with open(\"./raw_transcript.txt\", \"r\") as file:\n",
    "    transcript = file.read()"
   ]
  },
  {
   "cell_type": "code",
   "execution_count": 3,
   "metadata": {},
   "outputs": [
    {
     "name": "stderr",
     "output_type": "stream",
     "text": [
      "[nltk_data] Error loading punkt_tab: <urlopen error [SSL:\n",
      "[nltk_data]     CERTIFICATE_VERIFY_FAILED] certificate verify failed:\n",
      "[nltk_data]     unable to get local issuer certificate (_ssl.c:1006)>\n"
     ]
    }
   ],
   "source": [
    "nltk.download('punkt_tab')\n",
    "sentences = nltk.tokenize.sent_tokenize(transcript, language='french')"
   ]
  },
  {
   "cell_type": "code",
   "execution_count": 4,
   "metadata": {},
   "outputs": [],
   "source": [
    "sentences = [sentence.strip() for sentence in sentences]\n",
    "\n",
    "with open(\"./original_transcript.txt\", \"w\") as file:\n",
    "    for sentence in sentences:\n",
    "        file.write(sentence + \"\\n\")\n",
    "file.close()"
   ]
  },
  {
   "cell_type": "code",
   "execution_count": 5,
   "metadata": {},
   "outputs": [
    {
     "name": "stderr",
     "output_type": "stream",
     "text": [
      "/Users/michael.781/Desktop/DataScience/venvMT/lib/python3.11/site-packages/transformers/models/marian/tokenization_marian.py:175: UserWarning: Recommended: pip install sacremoses.\n",
      "  warnings.warn(\"Recommended: pip install sacremoses.\")\n"
     ]
    }
   ],
   "source": [
    "model_name = \"Helsinki-NLP/opus-mt-fr-en\"\n",
    "tokenizer = MarianTokenizer.from_pretrained(model_name)\n",
    "model = MarianMTModel.from_pretrained(model_name)\n",
    "translation = []\n",
    "for sentence in sentences:\n",
    "    input = tokenizer(sentence, return_tensors=\"pt\", padding=True)\n",
    "    output = model.generate(**input)\n",
    "    translation.append([tokenizer.decode(t, skip_special_tokens=True) for t in output])\n"
   ]
  },
  {
   "cell_type": "code",
   "execution_count": 6,
   "metadata": {},
   "outputs": [],
   "source": [
    "# mt_model_name = \"Helsinki-NLP/opus-mt-fr-en\"\n",
    "# tokenizer = MarianTokenizer.from_pretrained(mt_model_name)\n",
    "# mt_model = MarianMTModel.from_pretrained(mt_model_name)\n",
    "\n",
    "\n",
    "# transcript_sentences = nltk.sent_tokenize(transcript, language=\"french\")\n",
    "# tokenized_sentences = []\n",
    "# for sentence in transcript_sentences:\n",
    "#     tokenized_sentence = tokenizer(sentence, return_tensors=\"pt\")\n",
    "#     tokenized_sentences.append(tokenized_sentence)\n",
    "\n",
    "# translation = []\n",
    "# for sentence in tokenized_sentences:\n",
    "#     input = {\"input_ids\": sentence[\"input_ids\"][0].unsqueeze(0)}\n",
    "#     output = mt_model.generate(**input)\n",
    "#     translation.append(tokenizer.decode(output[0], skip_special_tokens=True))"
   ]
  },
  {
   "cell_type": "code",
   "execution_count": 7,
   "metadata": {},
   "outputs": [],
   "source": [
    "with open(\"./translated_transcript.txt\", \"w\") as file:\n",
    "    for section in translation:\n",
    "        file.write(section[0] + \"\\n\")\n",
    "file.close()\n"
   ]
  }
 ],
 "metadata": {
  "kernelspec": {
   "display_name": "venvMT",
   "language": "python",
   "name": "python3"
  },
  "language_info": {
   "codemirror_mode": {
    "name": "ipython",
    "version": 3
   },
   "file_extension": ".py",
   "mimetype": "text/x-python",
   "name": "python",
   "nbconvert_exporter": "python",
   "pygments_lexer": "ipython3",
   "version": "3.11.9"
  }
 },
 "nbformat": 4,
 "nbformat_minor": 2
}
