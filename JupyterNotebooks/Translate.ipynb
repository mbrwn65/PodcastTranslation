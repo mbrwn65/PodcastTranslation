{
 "cells": [
  {
   "cell_type": "code",
   "execution_count": null,
   "metadata": {},
   "outputs": [],
   "source": [
    "import os\n",
    "import sys\n",
    "if not \"venv\" in sys.executable:\n",
    "    raise EnvironmentError(\"The script must be run in a virtual environment with ipykernel installed\")\n",
    "\n",
    "# #installs necessary packages\n",
    "!pip3 install -r additionalreqs.txt\n",
    "\n",
    "import pprint\n",
    "from transformers import MarianMTModel, MarianTokenizer\n",
    "import nltk"
   ]
  },
  {
   "cell_type": "code",
   "execution_count": 2,
   "metadata": {},
   "outputs": [],
   "source": [
    "with open(\"./raw_transcript.txt\", \"r\") as file:\n",
    "    transcript = file.read()"
   ]
  },
  {
   "cell_type": "code",
   "execution_count": null,
   "metadata": {},
   "outputs": [],
   "source": [
    "nltk.download('punkt_tab')\n",
    "sentences = nltk.tokenize.sent_tokenize(transcript, language='french')"
   ]
  },
  {
   "cell_type": "code",
   "execution_count": 4,
   "metadata": {},
   "outputs": [],
   "source": [
    "sentences = [sentence.strip() for sentence in sentences]\n",
    "\n",
    "with open(\"./original_transcript.txt\", \"w\") as file:\n",
    "    for sentence in sentences:\n",
    "        file.write(sentence + \"\\n\")\n",
    "file.close()"
   ]
  },
  {
   "cell_type": "code",
   "execution_count": null,
   "metadata": {},
   "outputs": [],
   "source": [
    "model_name = \"Helsinki-NLP/opus-mt-fr-en\"\n",
    "tokenizer = MarianTokenizer.from_pretrained(model_name)\n",
    "model = MarianMTModel.from_pretrained(model_name)\n",
    "translation = []\n",
    "for sentence in sentences:\n",
    "    input = tokenizer(sentence, return_tensors=\"pt\", padding=True)\n",
    "    output = model.generate(**input)\n",
    "    translation.append([tokenizer.decode(t, skip_special_tokens=True) for t in output])\n"
   ]
  },
  {
   "cell_type": "code",
   "execution_count": 6,
   "metadata": {},
   "outputs": [],
   "source": [
    "# mt_model_name = \"Helsinki-NLP/opus-mt-fr-en\"\n",
    "# tokenizer = MarianTokenizer.from_pretrained(mt_model_name)\n",
    "# mt_model = MarianMTModel.from_pretrained(mt_model_name)\n",
    "\n",
    "\n",
    "# transcript_sentences = nltk.sent_tokenize(transcript, language=\"french\")\n",
    "# tokenized_sentences = []\n",
    "# for sentence in transcript_sentences:\n",
    "#     tokenized_sentence = tokenizer(sentence, return_tensors=\"pt\")\n",
    "#     tokenized_sentences.append(tokenized_sentence)\n",
    "\n",
    "# translation = []\n",
    "# for sentence in tokenized_sentences:\n",
    "#     input = {\"input_ids\": sentence[\"input_ids\"][0].unsqueeze(0)}\n",
    "#     output = mt_model.generate(**input)\n",
    "#     translation.append(tokenizer.decode(output[0], skip_special_tokens=True))"
   ]
  },
  {
   "cell_type": "code",
   "execution_count": 7,
   "metadata": {},
   "outputs": [],
   "source": [
    "with open(\"./translated_transcript.txt\", \"w\") as file:\n",
    "    for section in translation:\n",
    "        file.write(section[0] + \"\\n\")\n",
    "file.close()\n"
   ]
  }
 ],
 "metadata": {
  "kernelspec": {
   "display_name": "venvMT",
   "language": "python",
   "name": "python3"
  },
  "language_info": {
   "codemirror_mode": {
    "name": "ipython",
    "version": 3
   },
   "file_extension": ".py",
   "mimetype": "text/x-python",
   "name": "python",
   "nbconvert_exporter": "python",
   "pygments_lexer": "ipython3",
   "version": "3.11.9"
  }
 },
 "nbformat": 4,
 "nbformat_minor": 2
}
