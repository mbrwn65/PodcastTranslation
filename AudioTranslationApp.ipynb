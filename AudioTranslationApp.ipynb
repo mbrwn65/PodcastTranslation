{
 "cells": [
  {
   "cell_type": "code",
   "execution_count": 1,
   "metadata": {},
   "outputs": [],
   "source": [
    "import subprocess"
   ]
  },
  {
   "cell_type": "code",
   "execution_count": null,
   "metadata": {},
   "outputs": [],
   "source": [
    "user_input = input(\"(y/n) Would you like to uninstall all existing packages and install the necessary requirements from startingreqs.txt?\")\n",
    "\n",
    "if user_input.lower() == \"y\":\n",
    "    try:\n",
    "        print(\"Running transcriber\")\n",
    "        \n",
    "        subprocess.run([\"python3\", \"customtranscriber.py\"], check=True)\n",
    "\n",
    "        print(\"Running translator\")\n",
    "        subprocess.run([\"python3\", \"customtranslator.py\"], check=True)\n",
    "\n",
    "    except subprocess.CalledProcessError as e:\n",
    "        print(f\"An error occurred while running the scripts: {e}\")\n",
    "        \n",
    "else: print(\"all existing packages must be uninstalled to avoid conflicts before required packages can be installed\")"
   ]
  },
  {
   "cell_type": "code",
   "execution_count": null,
   "metadata": {},
   "outputs": [
    {
     "name": "stdout",
     "output_type": "stream",
     "text": [
      "{\"sa capacité à fédérer, c'est-à-dire à faire en sorte que la population se réunisse et soit heureuse ensemble.\": 'its ability to unite, that is to say, to ensure that the population gathers and is happy together.', 'La France a aussi pu montrer, grâce aux Jeux olympiques, sa capacité à construire des infrastructures, donc des bâtiments de qualité, à accueillir le tourisme et à organiser en général un des événements les plus importants du monde.': 'France was also able to demonstrate, thanks to the Olympic Games, its ability to build infrastructure, thus quality buildings, to host tourism and to organize in general one of the most important events in the world.', \"Voilà, donc ça c'est pour la partie un peu logistique.\": \"That's it, so that's for the logistical part.\", \"Et maintenant, si on s'intéresse plus particulièrement aux performances sportives, la France avait un objectif assez clair pour ces Jeux olympiques.\": 'And now, if we are particularly interested in sports performances, France had a clear objective for these Olympic Games.', 'On voulait faire partie du top 5 des nations au classement des médailles.': 'We wanted to be one of the top five nations in the medal rankings.', \"Autrement dit, être dans les 5 premiers pays en ce qui concerne le nombre de médailles et plus particulièrement les médailles d'or.\": 'In other words, to be in the top 5 countries with regard to the number of medals and more particularly gold medals.', 'Et Cocorico, on a réussi, puisque la France a remporté 64.': 'And Cocorico, we made it, since France won 64.'}\n"
     ]
    }
   ],
   "source": [
    "with open(\"original_transcript.txt\", \"r\") as file:\n",
    "    transcript = [line.strip() for line in file]\n",
    "file.close()\n",
    "with open(\"translated_transcript.txt\", \"r\") as file:\n",
    "    translation = [line.strip() for line in file]\n",
    "file.close()\n",
    "\n",
    "transcript_to_translation = {}\n",
    "for idx, sentence in enumerate(transcript):\n",
    "    transcript_to_translation[sentence] = translation[idx]\n",
    "    \n",
    "print(transcript_to_translation)"
   ]
  }
 ],
 "metadata": {
  "kernelspec": {
   "display_name": "venvApp",
   "language": "python",
   "name": "python3"
  },
  "language_info": {
   "codemirror_mode": {
    "name": "ipython",
    "version": 3
   },
   "file_extension": ".py",
   "mimetype": "text/x-python",
   "name": "python",
   "nbconvert_exporter": "python",
   "pygments_lexer": "ipython3",
   "version": "3.11.9"
  }
 },
 "nbformat": 4,
 "nbformat_minor": 2
}
